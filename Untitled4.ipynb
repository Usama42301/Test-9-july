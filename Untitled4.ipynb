{
  "nbformat": 4,
  "nbformat_minor": 0,
  "metadata": {
    "colab": {
      "provenance": []
    },
    "kernelspec": {
      "name": "python3",
      "display_name": "Python 3"
    },
    "language_info": {
      "name": "python"
    }
  },
  "cells": [
    {
      "cell_type": "code",
      "execution_count": 1,
      "metadata": {
        "id": "kBGWW8J8_TGW"
      },
      "outputs": [],
      "source": [
        "#Q1. pyhton program to print all odd numbers in a list\n"
      ]
    },
    {
      "cell_type": "code",
      "source": [
        "def odd_numbers(numbers):\n",
        "  for num in numbers:\n",
        "    if num % 2 != 0:\n",
        "      print(num)"
      ],
      "metadata": {
        "id": "2zSJMWKBANhY"
      },
      "execution_count": 5,
      "outputs": []
    },
    {
      "cell_type": "code",
      "source": [
        "numbers= [0, 1, 2, 3, 4, 5, 6, 7, 8, 9]\n",
        "print(\"odd numbers in list:\")\n",
        "odd_numbers(numbers)"
      ],
      "metadata": {
        "colab": {
          "base_uri": "https://localhost:8080/"
        },
        "id": "RaSbo11zCac1",
        "outputId": "aa9c33bb-3673-4e30-c430-af96775cf0e5"
      },
      "execution_count": 7,
      "outputs": [
        {
          "output_type": "stream",
          "name": "stdout",
          "text": [
            "odd numbers in list:\n",
            "1\n",
            "3\n",
            "5\n",
            "7\n",
            "9\n"
          ]
        }
      ]
    },
    {
      "cell_type": "code",
      "source": [
        "#Q2: python program to find the sum of list elements"
      ],
      "metadata": {
        "id": "5vEZ46vGF-XS"
      },
      "execution_count": 8,
      "outputs": []
    },
    {
      "cell_type": "code",
      "source": [
        "def calculate_sum(list):\n",
        "  sum_of_elements= sum(list)\n",
        "  return sum_of_elements"
      ],
      "metadata": {
        "id": "U-AD-6vFGqmp"
      },
      "execution_count": 9,
      "outputs": []
    },
    {
      "cell_type": "code",
      "source": [
        "list=[1,1,1,1,1]\n",
        "sum_of_numbers=calculate_sum(list)\n",
        "print(\"sum of list:\", sum_of_numbers)\n"
      ],
      "metadata": {
        "colab": {
          "base_uri": "https://localhost:8080/"
        },
        "id": "YaGVzYpyH0ez",
        "outputId": "816d5acb-5337-47fa-fea0-5646940164a3"
      },
      "execution_count": 11,
      "outputs": [
        {
          "output_type": "stream",
          "name": "stdout",
          "text": [
            "sum of list: 5\n"
          ]
        }
      ]
    },
    {
      "cell_type": "code",
      "source": [
        "#Q3= python program to reverse a list in two ways"
      ],
      "metadata": {
        "id": "8zoyoUB4I12K"
      },
      "execution_count": 12,
      "outputs": []
    },
    {
      "cell_type": "code",
      "source": [
        "# 1st way\n",
        "cities=[\"karachi\",\"lahore\",\"islamabad\",\"Quetta\"]\n",
        "cities=cities[ : : -1]\n",
        "print(cities)"
      ],
      "metadata": {
        "colab": {
          "base_uri": "https://localhost:8080/"
        },
        "id": "Fldy72QkJajh",
        "outputId": "abb2f4ab-ac6e-4171-8104-db29df1a50b8"
      },
      "execution_count": 14,
      "outputs": [
        {
          "output_type": "stream",
          "name": "stdout",
          "text": [
            "['Quetta', 'islamabad', 'lahore', 'karachi']\n"
          ]
        }
      ]
    },
    {
      "cell_type": "code",
      "source": [
        "# 2nd way\n",
        "cities=[\"karachi\",\"lahore\",\"islamabad\",\"Quetta\"]\n",
        "cities.reverse()\n",
        "print(cities)"
      ],
      "metadata": {
        "colab": {
          "base_uri": "https://localhost:8080/"
        },
        "id": "Lz02mvUDK-wx",
        "outputId": "6efb3433-17e2-4f1a-c477-2831be394e1d"
      },
      "execution_count": 15,
      "outputs": [
        {
          "output_type": "stream",
          "name": "stdout",
          "text": [
            "['Quetta', 'islamabad', 'lahore', 'karachi']\n"
          ]
        }
      ]
    },
    {
      "cell_type": "code",
      "source": [
        "#Q4= python program to find the top 2 maximum in a list"
      ],
      "metadata": {
        "id": "d2idqZwDLxXC"
      },
      "execution_count": 16,
      "outputs": []
    },
    {
      "cell_type": "code",
      "source": [
        "list=[1,2,3,4,5,6,7,8,9]\n",
        "list.sort()\n",
        "print(list)\n",
        "list.reverse()\n",
        "print(list)\n",
        "print(list[0])\n",
        "print(list[1])\n"
      ],
      "metadata": {
        "colab": {
          "base_uri": "https://localhost:8080/"
        },
        "id": "LYqrN7cSMd5g",
        "outputId": "754494b6-8410-463d-8704-7eafaa11eb21"
      },
      "execution_count": 19,
      "outputs": [
        {
          "output_type": "stream",
          "name": "stdout",
          "text": [
            "[1, 2, 3, 4, 5, 6, 7, 8, 9]\n",
            "[9, 8, 7, 6, 5, 4, 3, 2, 1]\n",
            "9\n",
            "8\n"
          ]
        }
      ]
    },
    {
      "cell_type": "code",
      "source": [
        "#Q5= find the second highest number in a  integer list"
      ],
      "metadata": {
        "id": "4IfLt8BfPAO1"
      },
      "execution_count": 20,
      "outputs": []
    },
    {
      "cell_type": "code",
      "source": [
        "list=[5,10,15,20,25]\n",
        "list.sort()\n",
        "print(list)\n",
        "list=list[-2]\n",
        "print(list)"
      ],
      "metadata": {
        "colab": {
          "base_uri": "https://localhost:8080/"
        },
        "id": "PfsaXgbnP5xu",
        "outputId": "f56de616-3688-44a1-cb8d-cbc531a731e9"
      },
      "execution_count": 21,
      "outputs": [
        {
          "output_type": "stream",
          "name": "stdout",
          "text": [
            "[5, 10, 15, 20, 25]\n",
            "20\n"
          ]
        }
      ]
    },
    {
      "cell_type": "code",
      "source": [
        "#Q6= python program to sort characters in decsending order"
      ],
      "metadata": {
        "id": "rracQf8gQi6e"
      },
      "execution_count": 22,
      "outputs": []
    },
    {
      "cell_type": "code",
      "source": [
        "list=[5,7,6,2,3,1]\n",
        "list.sort()\n",
        "print(list)\n",
        "list.reverse()\n",
        "print(list)"
      ],
      "metadata": {
        "colab": {
          "base_uri": "https://localhost:8080/"
        },
        "id": "WKCRAe4FQ83O",
        "outputId": "fd4f3383-a80d-4ce0-b890-fa006f1ee7b0"
      },
      "execution_count": 23,
      "outputs": [
        {
          "output_type": "stream",
          "name": "stdout",
          "text": [
            "[1, 2, 3, 5, 6, 7]\n",
            "[7, 6, 5, 3, 2, 1]\n"
          ]
        }
      ]
    },
    {
      "cell_type": "code",
      "source": [
        "#Q9= python program to calculate factorial"
      ],
      "metadata": {
        "id": "SmROSsBNR4o9"
      },
      "execution_count": 24,
      "outputs": []
    },
    {
      "cell_type": "code",
      "source": [
        "def factorial(num):\n",
        "  fact= 1\n",
        "  for i in range(1,num+1):\n",
        "    fact = fact*i\n",
        "  print(fact)\n",
        "factorial(4)"
      ],
      "metadata": {
        "colab": {
          "base_uri": "https://localhost:8080/"
        },
        "id": "5OqLusBDSQ-Q",
        "outputId": "5d0dd956-8b6c-4aaf-96fa-b22c16ebf802"
      },
      "execution_count": 36,
      "outputs": [
        {
          "output_type": "stream",
          "name": "stdout",
          "text": [
            "24\n"
          ]
        }
      ]
    },
    {
      "cell_type": "code",
      "source": [
        "#Q10: pythpon program to merge two list"
      ],
      "metadata": {
        "id": "qYiyINvhUQ9d"
      },
      "execution_count": 34,
      "outputs": []
    },
    {
      "cell_type": "code",
      "source": [
        "list1 = [1,3,5,7,9]\n",
        "list2 = [2,4,6,8,10]\n",
        "print(list1 + list2)"
      ],
      "metadata": {
        "colab": {
          "base_uri": "https://localhost:8080/"
        },
        "id": "uBQKD3CYUrEj",
        "outputId": "88867ffd-c37c-4c7b-a2f3-436f8c940182"
      },
      "execution_count": 38,
      "outputs": [
        {
          "output_type": "stream",
          "name": "stdout",
          "text": [
            "[1, 3, 5, 7, 9, 2, 4, 6, 8, 10]\n"
          ]
        }
      ]
    },
    {
      "cell_type": "code",
      "source": [
        "#Q8: check given character is a vowel or constant"
      ],
      "metadata": {
        "id": "TGwzbHOZWutV"
      },
      "execution_count": 39,
      "outputs": []
    },
    {
      "cell_type": "code",
      "source": [
        "vowels = 'aeiou'\n",
        "v=input(\"enter any alphabet:\")\n",
        "if v in vowels:\n",
        "  print(\"Your alphabet is a vowel\" )\n",
        "else:\n",
        "    print(\"your alphabet is constant\")"
      ],
      "metadata": {
        "colab": {
          "base_uri": "https://localhost:8080/"
        },
        "id": "uU_oWG6_ZYK7",
        "outputId": "f6fdeaa6-ca47-41a6-955a-d26aa71c5b7e"
      },
      "execution_count": 42,
      "outputs": [
        {
          "output_type": "stream",
          "name": "stdout",
          "text": [
            "enter any alphabet:b\n",
            "your alphabet is constant\n"
          ]
        }
      ]
    },
    {
      "cell_type": "code",
      "source": [
        "#Q7: python program to remove duplicate chracters from string"
      ],
      "metadata": {
        "id": "PAdlFWZNa-lJ"
      },
      "execution_count": 43,
      "outputs": []
    },
    {
      "cell_type": "code",
      "source": [
        "S= 'PPPMMM'\n",
        "S= ''. join(set(S))\n",
        "print(S)"
      ],
      "metadata": {
        "colab": {
          "base_uri": "https://localhost:8080/"
        },
        "id": "a-6IM4lGctBf",
        "outputId": "2d90006b-b2a5-4783-e4ff-65cec726010f"
      },
      "execution_count": 45,
      "outputs": [
        {
          "output_type": "stream",
          "name": "stdout",
          "text": [
            "PM\n"
          ]
        }
      ]
    },
    {
      "cell_type": "code",
      "source": [],
      "metadata": {
        "id": "2Bse9tmjdgNe"
      },
      "execution_count": null,
      "outputs": []
    }
  ]
}